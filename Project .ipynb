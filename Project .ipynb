{
 "cells": [
  {
   "cell_type": "code",
   "execution_count": 1,
   "metadata": {},
   "outputs": [],
   "source": [
    "import numpy as np\n",
    "import pandas as pd\n",
    "import matplotlib.pyplot as plt\n",
    "\n",
    "from sklearn.model_selection import train_test_split\n",
    "from sklearn.ensemble import RandomForestRegressor as RF\n",
    "\n",
    "from sklearn.metrics import r2_score as r2"
   ]
  },
  {
   "cell_type": "code",
   "execution_count": 2,
   "metadata": {},
   "outputs": [],
   "source": [
    "data = pd.read_csv('D:\\Учебное\\GeekBrains\\Python_ds\\Project\\_train.csv', sep=';')"
   ]
  },
  {
   "cell_type": "code",
   "execution_count": 3,
   "metadata": {},
   "outputs": [],
   "source": [
    "train, valid = train_test_split(data, test_size=0.3, random_state=42)"
   ]
  },
  {
   "cell_type": "code",
   "execution_count": 4,
   "metadata": {},
   "outputs": [],
   "source": [
    "def correct(_data):\n",
    "    \n",
    "    _data.loc[_data['Square'] < _data['LifeSquare'], ['LifeSquare', 'Square']] = _data.loc[_data['Square'] < _data['LifeSquare'], ['Square', 'LifeSquare']].to_numpy()\n",
    "    _data.loc[_data['Square'] < 15 , ['Square']] = _data.loc[_data['Square'] < 15 , ['Square']].apply(lambda x: x * 10)\n",
    "    _data.loc[_data['LifeSquare'] < 15 , ['LifeSquare']] = _data.loc[_data['LifeSquare'] < 15 , ['LifeSquare']].apply(lambda x: x * 10)\n",
    "    _data.loc[_data['LifeSquare'] / _data['Square'] < 0.4, ['LifeSquare']] = _data.loc[_data['LifeSquare']/_data['Square'] < 0.4, ['Square']].apply(lambda x: x * 0.6)\n",
    "    _data['LifeSquare'] = _data['LifeSquare'].fillna(float(1))\n",
    "    _data = _data.assign(MeanRooms = round(_data.LifeSquare / 21))\n",
    "    _data.loc[_data['Rooms'] > 5 , ['Rooms' , 'MeanRooms']] = _data.loc[_data['Rooms'] > 5 , ['MeanRooms' , 'Rooms']].to_numpy()\n",
    "    _data.loc[_data['Rooms'] < 1 , ['Rooms' , 'MeanRooms']] = _data.loc[_data['Rooms'] < 1 , ['MeanRooms' , 'Rooms']].to_numpy()\n",
    "    \n",
    "    return _data"
   ]
  },
  {
   "cell_type": "code",
   "execution_count": 5,
   "metadata": {},
   "outputs": [],
   "source": [
    "def complete(train):\n",
    "    \n",
    "    train = pd.merge(train, mn_sq, on=['Rooms'], how='left')\n",
    "    train = pd.merge(train, mean_price, on=['DistrictId' , 'Rooms'], how='left')\n",
    "    train = train.assign(MeanSquare2 = data.LifeSquare / data.Rooms)\n",
    "    \n",
    "    return train"
   ]
  },
  {
   "cell_type": "code",
   "execution_count": 6,
   "metadata": {},
   "outputs": [],
   "source": [
    "def correctSquare(data):\n",
    "    data = data.assign(MeanSquare3 = data.MeanSquare2 * data.Rooms)\n",
    "    data.loc[data['Square'] > 250, ['Square' , 'MeanSquare3']] = data.loc[data['Square'] > 250, ['MeanSquare3' , 'Square']].to_numpy()\n",
    "    \n",
    "    return data"
   ]
  },
  {
   "cell_type": "code",
   "execution_count": 7,
   "metadata": {},
   "outputs": [],
   "source": [
    "def add_distr_size(df, distr_size):\n",
    "    df = pd.merge(df, distr_size, on='DistrictId', how='left')\n",
    "    df['large_district'] = df['large_district'].fillna(0)\n",
    "    return df"
   ]
  },
  {
   "cell_type": "code",
   "execution_count": 8,
   "metadata": {},
   "outputs": [],
   "source": [
    "data = correct(data)\n",
    "valid = correct(valid)\n",
    "train = correct(train)\n"
   ]
  },
  {
   "cell_type": "code",
   "execution_count": 9,
   "metadata": {},
   "outputs": [],
   "source": [
    "mn_sq = data.groupby(['Rooms'], as_index=False)[['LifeSquare']].mean().rename(columns={'LifeSquare': 'MeanSquare1'})\n",
    "data = data.assign(Meanprice = data.Price / data.Square)\n",
    "mean_price = data.groupby(['DistrictId' , 'Rooms'], as_index=False)[['Meanprice']].mean()\n",
    "distr_size = (data['DistrictId'].value_counts() > 180).astype(int).reset_index()\n",
    "distr_size.columns = ['DistrictId', 'large_district']"
   ]
  },
  {
   "cell_type": "code",
   "execution_count": 10,
   "metadata": {},
   "outputs": [],
   "source": [
    "valid = complete(valid)\n",
    "train = complete(train)"
   ]
  },
  {
   "cell_type": "code",
   "execution_count": 11,
   "metadata": {},
   "outputs": [],
   "source": [
    "valid = correctSquare(valid)\n",
    "train = correctSquare(train)"
   ]
  },
  {
   "cell_type": "code",
   "execution_count": 12,
   "metadata": {},
   "outputs": [],
   "source": [
    "train = add_distr_size(train, distr_size)\n",
    "valid = add_distr_size(valid, distr_size)"
   ]
  },
  {
   "cell_type": "code",
   "execution_count": 13,
   "metadata": {},
   "outputs": [],
   "source": [
    "model = RF(n_estimators=20, max_depth=6, random_state=42)"
   ]
  },
  {
   "cell_type": "code",
   "execution_count": 14,
   "metadata": {},
   "outputs": [],
   "source": [
    "feats = ['Rooms', \n",
    "         'Square',\n",
    "         'MeanSquare1',\n",
    "         'DistrictId',\n",
    "         'Meanprice',\n",
    "         'Ecology_1',\n",
    "         'large_district',\n",
    "         'Shops_1'\n",
    "        ]"
   ]
  },
  {
   "cell_type": "code",
   "execution_count": 15,
   "metadata": {},
   "outputs": [
    {
     "data": {
      "text/plain": [
       "RandomForestRegressor(bootstrap=True, criterion='mse', max_depth=6,\n",
       "           max_features='auto', max_leaf_nodes=None,\n",
       "           min_impurity_decrease=0.0, min_impurity_split=None,\n",
       "           min_samples_leaf=1, min_samples_split=2,\n",
       "           min_weight_fraction_leaf=0.0, n_estimators=20, n_jobs=None,\n",
       "           oob_score=False, random_state=42, verbose=0, warm_start=False)"
      ]
     },
     "execution_count": 15,
     "metadata": {},
     "output_type": "execute_result"
    }
   ],
   "source": [
    "model.fit(train.loc[:, feats], train['Price'])"
   ]
  },
  {
   "cell_type": "code",
   "execution_count": 16,
   "metadata": {},
   "outputs": [],
   "source": [
    "pred_train = model.predict(train.loc[:, feats])\n",
    "pred_valid = model.predict(valid.loc[:, feats])"
   ]
  },
  {
   "cell_type": "code",
   "execution_count": 17,
   "metadata": {},
   "outputs": [
    {
     "data": {
      "text/plain": [
       "(0.7905830703234169, 0.7432895710239746)"
      ]
     },
     "execution_count": 17,
     "metadata": {},
     "output_type": "execute_result"
    }
   ],
   "source": [
    "r2(train['Price'], pred_train), r2(valid['Price'], pred_valid)"
   ]
  },
  {
   "cell_type": "code",
   "execution_count": 18,
   "metadata": {},
   "outputs": [],
   "source": [
    "Meanprice = train[\"Meanprice\"].mean()"
   ]
  },
  {
   "cell_type": "markdown",
   "metadata": {},
   "source": [
    "### Test"
   ]
  },
  {
   "cell_type": "code",
   "execution_count": 19,
   "metadata": {},
   "outputs": [],
   "source": [
    "test = pd.read_csv('D:\\Учебное\\GeekBrains\\Python_ds\\Project\\_test.csv', sep=';')"
   ]
  },
  {
   "cell_type": "code",
   "execution_count": 20,
   "metadata": {},
   "outputs": [],
   "source": [
    "test = correct(test)"
   ]
  },
  {
   "cell_type": "code",
   "execution_count": 21,
   "metadata": {},
   "outputs": [],
   "source": [
    "test = complete(test)"
   ]
  },
  {
   "cell_type": "code",
   "execution_count": 22,
   "metadata": {},
   "outputs": [],
   "source": [
    "test = correctSquare(test)"
   ]
  },
  {
   "cell_type": "code",
   "execution_count": 23,
   "metadata": {},
   "outputs": [],
   "source": [
    "test = add_distr_size(test, distr_size)"
   ]
  },
  {
   "cell_type": "code",
   "execution_count": 24,
   "metadata": {},
   "outputs": [],
   "source": [
    "test['Meanprice'] = test['Meanprice'].fillna(Meanprice)"
   ]
  },
  {
   "cell_type": "code",
   "execution_count": 25,
   "metadata": {},
   "outputs": [],
   "source": [
    "test['Price'] = model.predict(test.loc[:, feats])"
   ]
  },
  {
   "cell_type": "code",
   "execution_count": 26,
   "metadata": {},
   "outputs": [
    {
     "name": "stdout",
     "output_type": "stream",
     "text": [
      "<class 'pandas.core.frame.DataFrame'>\n",
      "Int64Index: 5000 entries, 0 to 4999\n",
      "Data columns (total 26 columns):\n",
      "Id                5000 non-null int64\n",
      "DistrictId        5000 non-null int64\n",
      "Rooms             5000 non-null float64\n",
      "Square            5000 non-null float64\n",
      "LifeSquare        5000 non-null float64\n",
      "KitchenSquare     5000 non-null float64\n",
      "Floor             5000 non-null int64\n",
      "HouseFloor        5000 non-null float64\n",
      "HouseYear         5000 non-null int64\n",
      "Ecology_1         5000 non-null float64\n",
      "Ecology_2         5000 non-null object\n",
      "Ecology_3         5000 non-null object\n",
      "Social_1          5000 non-null int64\n",
      "Social_2          5000 non-null int64\n",
      "Social_3          5000 non-null int64\n",
      "Healthcare_1      2623 non-null float64\n",
      "Helthcare_2       5000 non-null int64\n",
      "Shops_1           5000 non-null int64\n",
      "Shops_2           5000 non-null object\n",
      "MeanRooms         5000 non-null float64\n",
      "MeanSquare1       5000 non-null float64\n",
      "Meanprice         5000 non-null float64\n",
      "MeanSquare2       5000 non-null float64\n",
      "MeanSquare3       5000 non-null float64\n",
      "large_district    5000 non-null float64\n",
      "Price             5000 non-null float64\n",
      "dtypes: float64(14), int64(9), object(3)\n",
      "memory usage: 996.1+ KB\n"
     ]
    }
   ],
   "source": [
    "test.info()"
   ]
  },
  {
   "cell_type": "code",
   "execution_count": 27,
   "metadata": {},
   "outputs": [],
   "source": [
    "test.loc[:, ['Id', 'Price']].to_csv('D:\\Учебное\\GeekBrains\\Python_ds\\Project\\LVoronov_predictions.csv', index=None, sep=',')"
   ]
  }
 ],
 "metadata": {
  "kernelspec": {
   "display_name": "Python 3",
   "language": "python",
   "name": "python3"
  },
  "language_info": {
   "codemirror_mode": {
    "name": "ipython",
    "version": 3
   },
   "file_extension": ".py",
   "mimetype": "text/x-python",
   "name": "python",
   "nbconvert_exporter": "python",
   "pygments_lexer": "ipython3",
   "version": "3.7.0"
  }
 },
 "nbformat": 4,
 "nbformat_minor": 2
}
